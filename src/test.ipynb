{
 "cells": [
  {
   "cell_type": "code",
   "execution_count": null,
   "metadata": {},
   "outputs": [],
   "source": []
  },
  {
   "cell_type": "code",
   "execution_count": null,
   "metadata": {},
   "outputs": [],
   "source": []
  },
  {
   "cell_type": "code",
   "execution_count": null,
   "metadata": {},
   "outputs": [],
   "source": []
  },
  {
   "cell_type": "code",
   "execution_count": null,
   "metadata": {},
   "outputs": [],
   "source": []
  },
  {
   "cell_type": "code",
   "execution_count": null,
   "metadata": {},
   "outputs": [],
   "source": []
  },
  {
   "cell_type": "code",
   "execution_count": null,
   "metadata": {},
   "outputs": [],
   "source": []
  },
  {
   "cell_type": "code",
   "execution_count": 4,
   "metadata": {},
   "outputs": [
    {
     "name": "stdout",
     "output_type": "stream",
     "text": [
      "Sorted list: 0.9 1.1 1.4 3.2 5 14.12 23 52.1 "
     ]
    }
   ],
   "source": [
    "class BSTNode:\n",
    "    def __init__(self, key):\n",
    "        self.key = key\n",
    "        self.left = None\n",
    "        self.right = None\n",
    "        self.parent = None\n",
    " \n",
    "    def insert(self, node):\n",
    "        if self.key > node.key:\n",
    "            if self.left is None:\n",
    "                self.left = node\n",
    "                node.parent = self\n",
    "            else:\n",
    "                self.left.insert(node)\n",
    "        elif self.key <= node.key:\n",
    "            if self.right is None:\n",
    "                self.right = node\n",
    "                node.parent = self\n",
    "            else:\n",
    "                self.right.insert(node)\n",
    " \n",
    "    def inorder(self):\n",
    "        if self.left is not None:\n",
    "            self.left.inorder()\n",
    "        print(self.key, end=' ')\n",
    "        if self.right is not None:\n",
    "            self.right.inorder()\n",
    " \n",
    " \n",
    "class BSTree:\n",
    "    def __init__(self):\n",
    "        self.root = None\n",
    " \n",
    "    def inorder(self):\n",
    "        if self.root is not None:\n",
    "            self.root.inorder()\n",
    " \n",
    "    def add(self, key):\n",
    "        new_node = BSTNode(key)\n",
    "        if self.root is None:\n",
    "            self.root = new_node\n",
    "        else:\n",
    "            self.root.insert(new_node)\n",
    " \n",
    " \n",
    "bstree = BSTree()\n",
    " \n",
    "test_case =[ 5, 14.12, 3.2 ,0.9,23,52.1, 1.1,1.4]\n",
    "\n",
    "for x in test_case:\n",
    "    bstree.add(x)\n",
    "print('Sorted list: ', end='')\n",
    "bstree.inorder()"
   ]
  },
  {
   "cell_type": "code",
   "execution_count": 12,
   "metadata": {},
   "outputs": [
    {
     "name": "stdout",
     "output_type": "stream",
     "text": [
      "<class 'float'>\n"
     ]
    }
   ],
   "source": [
    "a = input('enter a nuber')\n",
    "\n",
    "b= float(a)\n",
    "print(type(b))"
   ]
  },
  {
   "cell_type": "code",
   "execution_count": null,
   "metadata": {},
   "outputs": [],
   "source": [
    "\n",
    "        \n",
    "    \n",
    "    # # Traverse through 1 to len(arr)\n",
    "    #   for i in range(1, len(insert_list)):\n",
    "  \n",
    "    #      key = insert_list[i]\n",
    "  \n",
    "    #     # Move elements of arr[0..i-1], that are\n",
    "    #     # greater than key, to one position ahead\n",
    "    #     # of their current position\n",
    "    #      j = i-1\n",
    "    #      while j >=0 and key < insert_list[j] :\n",
    "    #             insert_list[j+1]= insert_list[j]\n",
    "    #             j -= 1\n",
    "    #      insert_list[j+1] = key\n",
    "\n",
    "\n",
    "      # print(insert_list)"
   ]
  },
  {
   "cell_type": "code",
   "execution_count": 4,
   "metadata": {},
   "outputs": [
    {
     "name": "stdout",
     "output_type": "stream",
     "text": [
      "[3.2, 2.3, 6.5]\n"
     ]
    }
   ],
   "source": [
    "\n",
    "test_case_length = int(input('please enter Length of your list'))\n",
    "test_case = []\n",
    "for i in range(test_case_length):\n",
    "    a= input(\"please enter elements\")\n",
    "    test_case.append(float(a))\n",
    "print(test_case)\n",
    "\n",
    "    \n"
   ]
  },
  {
   "cell_type": "code",
   "execution_count": 5,
   "metadata": {},
   "outputs": [
    {
     "data": {
      "text/plain": [
       "list"
      ]
     },
     "execution_count": 5,
     "metadata": {},
     "output_type": "execute_result"
    }
   ],
   "source": [
    "type(test_case)"
   ]
  },
  {
   "cell_type": "code",
   "execution_count": null,
   "metadata": {},
   "outputs": [],
   "source": [
    "# sort_orders = sorted(TimeList.items(), key=lambda x: x[1])\n",
    "\n",
    "# for i in sort_orders:\n",
    "# \tprint(i[0], i[1])\n",
    "print(sorted(TimeList))\n",
    "\n",
    "# print(p.Shell_Sort(test_case))\n",
    "# p.insertionSort() \n",
    "# print('selectsort')\n",
    "# p.SelectionSort()\n",
    "\n",
    "# print(p.Quicksort(test_case))\n",
    "# print(p.mergsort(test_case))\n",
    "# print(p.heap_sort(test_case))\n",
    "\n",
    "# bstree = BSTree()\n",
    "# test_case =[ 5, 14.12, 3.2 ,0.9,23,52.1, 1.1,1.4]\n",
    "# for x in test_case:\n",
    "#     bstree.add(x)\n",
    "# print('Sorted list: ')\n",
    "# bstree.inorder()\n",
    "# tree = BSTree()\n",
    " \n",
    "\n",
    "\n",
    "# for x in test_case:\n",
    "#     tree.add(x)\n",
    "# print('Sorted list: ', end='')\n",
    "# tree.inorder()\n",
    "\n"
   ]
  }
 ],
 "metadata": {
  "interpreter": {
   "hash": "fd742174cda30ff4f8f1660d7f16fe6b9796062d478f3a12269b165419ce106f"
  },
  "kernelspec": {
   "display_name": "Python 3.7.6 64-bit ('base': conda)",
   "language": "python",
   "name": "python3"
  },
  "language_info": {
   "codemirror_mode": {
    "name": "ipython",
    "version": 3
   },
   "file_extension": ".py",
   "mimetype": "text/x-python",
   "name": "python",
   "nbconvert_exporter": "python",
   "pygments_lexer": "ipython3",
   "version": "3.7.6"
  },
  "orig_nbformat": 4
 },
 "nbformat": 4,
 "nbformat_minor": 2
}
